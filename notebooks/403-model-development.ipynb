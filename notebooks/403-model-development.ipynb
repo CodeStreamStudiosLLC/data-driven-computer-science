{
 "cells": [
  {
   "cell_type": "markdown",
   "id": "72bb1960-c50e-4c73-bbb3-0cf5a2bfc9de",
   "metadata": {},
   "source": [
    "# Model Development Challenge: Model Development"
   ]
  },
  {
   "cell_type": "markdown",
   "id": "530776f6-698d-4295-af6a-ea788d1314f5",
   "metadata": {},
   "source": [
    "## Training"
   ]
  },
  {
   "cell_type": "markdown",
   "id": "82f70536-ff17-476b-9888-733f1cac3152",
   "metadata": {},
   "source": [
    "### What is ***training***?\n",
    "\n",
    "***Training*** is the process of fitting a predictive model to sample data so that it can accurately predict the outcome of new data that has a similar composition and falls into the sample data's *distribution*."
   ]
  },
  {
   "cell_type": "code",
   "execution_count": null,
   "id": "d1f3bfde-5f09-4028-a075-1f15612084a0",
   "metadata": {},
   "outputs": [],
   "source": []
  },
  {
   "cell_type": "markdown",
   "id": "25c1733b-8381-4813-b45c-709bfc1e6746",
   "metadata": {
    "tags": []
   },
   "source": [
    "## Testing"
   ]
  },
  {
   "cell_type": "markdown",
   "id": "86b1ddc2-82d2-40ae-b827-ea4463c7c9fb",
   "metadata": {
    "tags": []
   },
   "source": [
    "### What is ***testing***?\n",
    "\n",
    "***Testing*** is the process of evaluating a trained model in order to see how it performs when it is introduced to data that is has not seen before."
   ]
  },
  {
   "cell_type": "code",
   "execution_count": null,
   "id": "d7e12e2a-0984-4dcf-bdd8-535d39a4805c",
   "metadata": {},
   "outputs": [],
   "source": []
  },
  {
   "cell_type": "markdown",
   "id": "4161183d-5825-4045-8dc4-fa22d2cbfc93",
   "metadata": {},
   "source": [
    "## Validation"
   ]
  },
  {
   "cell_type": "markdown",
   "id": "67ca5f20-3052-4fe7-84eb-b9b19dc78ffe",
   "metadata": {},
   "source": [
    "### What is ***validation***?\n",
    "\n",
    "***Validation*** is typically unique to neural networks in that they are used to evaluate the fit of the training data while the hyperparameters are being tuned.  Another way to look at is is as the process of using a small subset of data in order to evaluate the neural network's performance during training.  The error of the network on the validation set is computed using the loss function."
   ]
  },
  {
   "cell_type": "code",
   "execution_count": null,
   "id": "e15b4e2d-310b-4e7d-9fa4-a05dc0739fca",
   "metadata": {},
   "outputs": [],
   "source": []
  }
 ],
 "metadata": {
  "kernelspec": {
   "display_name": "Python 3 (ipykernel)",
   "language": "python",
   "name": "python3"
  },
  "language_info": {
   "codemirror_mode": {
    "name": "ipython",
    "version": 3
   },
   "file_extension": ".py",
   "mimetype": "text/x-python",
   "name": "python",
   "nbconvert_exporter": "python",
   "pygments_lexer": "ipython3",
   "version": "3.7.12"
  }
 },
 "nbformat": 4,
 "nbformat_minor": 5
}
