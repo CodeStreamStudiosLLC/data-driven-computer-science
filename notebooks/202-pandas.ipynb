{
 "cells": [
  {
   "cell_type": "markdown",
   "id": "03bb0568-27ff-45b1-a8e3-c1c112371c2c",
   "metadata": {},
   "source": [
    "# Scientific Python: Pandas"
   ]
  },
  {
   "cell_type": "markdown",
   "id": "d500a5f1-0e04-42ac-a4a4-dc95536bf684",
   "metadata": {
    "tags": []
   },
   "source": [
    "## Benefits"
   ]
  },
  {
   "cell_type": "markdown",
   "id": "9bc040c2-b8de-4d4f-8e2e-b615c9969185",
   "metadata": {},
   "source": [
    "The ***pandas*** library is a fast, powerful, flexible and easy to use open-source data analysis and manipulation tool that is built on top of the Python programming language.  It is very popular in data science and scientific python in general.  It is especially useful when working with 2D data structures/tables.  Increasing the dimensionality beyond that can make this library difficult to use.\n",
    "\n",
    "A few key benefits of this library are:\n",
    "\n",
    "- **An extensive set of features**: the library provides you with a large set of important features and commands that are useful for easily analyzing your data\n",
    "- **Data representation**: the library is capable of helping you analyze and understand the data better because of its streamlined forms of data representation\n",
    "- **Made for Python**: with Python growing in popularity in data science and scientific computing, having useful and powerful libraries and packages built on top of the language is always a benefit.\n",
    "- **Less writing and more work done**: pandas enables you to use a few lines of pandas code to do something that would take several lines of code in basic python\n",
    "- **Makes data customizable and flexible**: provides a huge feature set to apply on the data you are working with so that you can customize, edit, and pivot it based on your needs\n",
    "- **Efficiently handles large amounts of data**: the library was developed with the handling of large amounts of data in mind allowing for fast importing of large amounts of data"
   ]
  },
  {
   "cell_type": "markdown",
   "id": "d1f92850-2d12-464f-9b55-d940cab7b971",
   "metadata": {},
   "source": [
    "## Series and Dataframes"
   ]
  },
  {
   "cell_type": "markdown",
   "id": "022b1c0a-e1b9-44ea-829c-c4b40eb657b7",
   "metadata": {
    "tags": []
   },
   "source": [
    "### Series\n",
    "In pandas, a ***series*** is simply a one-dimensional labeled array capable of holding and data type."
   ]
  },
  {
   "cell_type": "code",
   "execution_count": 2,
   "id": "73481456-2ba7-4167-8895-44e0d386be36",
   "metadata": {},
   "outputs": [
    {
     "name": "stdout",
     "output_type": "stream",
     "text": [
      "0      cat\n",
      "1      dog\n",
      "2      rat\n",
      "3    horse\n",
      "4      pig\n",
      "Name: Animals, dtype: object\n",
      "Animals\n"
     ]
    }
   ],
   "source": [
    "import pandas\n",
    "\n",
    "animals = [\"cat\", \"dog\", \"rat\", \"horse\", \"pig\"]\n",
    "\n",
    "animal_series = pandas.Series(animals, name = \"Animals\")\n",
    "\n",
    "print(animal_series)\n",
    "print(animal_series.name)"
   ]
  },
  {
   "cell_type": "markdown",
   "id": "8a3f3438-2ae6-4a80-ad26-f3a3622ac066",
   "metadata": {
    "tags": []
   },
   "source": [
    "### Dataframe\n",
    "In pandas, a ***dataframe*** is a two-dimensional labeled data structure with columns of potentially different types.  They are very similar to spreadsheets or a SQL table.  They can also be views as a dict of Series objects."
   ]
  },
  {
   "cell_type": "code",
   "execution_count": 16,
   "id": "7f61f331-8aae-4465-b8ea-b9f0d4abd5ac",
   "metadata": {},
   "outputs": [
    {
     "data": {
      "text/html": [
       "<div>\n",
       "<style scoped>\n",
       "    .dataframe tbody tr th:only-of-type {\n",
       "        vertical-align: middle;\n",
       "    }\n",
       "\n",
       "    .dataframe tbody tr th {\n",
       "        vertical-align: top;\n",
       "    }\n",
       "\n",
       "    .dataframe thead th {\n",
       "        text-align: right;\n",
       "    }\n",
       "</style>\n",
       "<table border=\"1\" class=\"dataframe\">\n",
       "  <thead>\n",
       "    <tr style=\"text-align: right;\">\n",
       "      <th></th>\n",
       "      <th>Make</th>\n",
       "      <th>Model</th>\n",
       "      <th>Year</th>\n",
       "    </tr>\n",
       "  </thead>\n",
       "  <tbody>\n",
       "    <tr>\n",
       "      <th>0</th>\n",
       "      <td>Ford</td>\n",
       "      <td>Focus</td>\n",
       "      <td>2008</td>\n",
       "    </tr>\n",
       "    <tr>\n",
       "      <th>1</th>\n",
       "      <td>Toyota</td>\n",
       "      <td>Camry</td>\n",
       "      <td>2014</td>\n",
       "    </tr>\n",
       "    <tr>\n",
       "      <th>2</th>\n",
       "      <td>GMC</td>\n",
       "      <td>Yukon</td>\n",
       "      <td>2010</td>\n",
       "    </tr>\n",
       "    <tr>\n",
       "      <th>3</th>\n",
       "      <td>Nissan</td>\n",
       "      <td>Altima</td>\n",
       "      <td>2022</td>\n",
       "    </tr>\n",
       "  </tbody>\n",
       "</table>\n",
       "</div>"
      ],
      "text/plain": [
       "     Make   Model  Year\n",
       "0    Ford   Focus  2008\n",
       "1  Toyota   Camry  2014\n",
       "2     GMC   Yukon  2010\n",
       "3  Nissan  Altima  2022"
      ]
     },
     "execution_count": 16,
     "metadata": {},
     "output_type": "execute_result"
    }
   ],
   "source": [
    "import pandas\n",
    "\n",
    "car_make = pandas.Series([\"Ford\", \"Toyota\", \"GMC\", \"Nissan\"], name = \"Make\")\n",
    "car_model = pandas.Series([\"Focus\", \"Camry\", \"Yukon\", \"Altima\"], name = \"Model\")\n",
    "car_year = pandas.Series([2008, 2014, 2010, 2022], name = \"Year\")\n",
    "\n",
    "car_dataframe = pandas.DataFrame(zip(car_make, car_model, car_year), columns=[car_make.name, car_model.name, car_year.name])\n",
    "\n",
    "car_dataframe"
   ]
  },
  {
   "cell_type": "markdown",
   "id": "850a11f6-50fd-4845-b218-4651dc68a10c",
   "metadata": {
    "tags": []
   },
   "source": [
    "## Basic Statistics"
   ]
  },
  {
   "cell_type": "markdown",
   "id": "b3131b8f-36bc-4128-88a7-2244eabb7656",
   "metadata": {
    "tags": []
   },
   "source": [
    "Pandas has basic statistical functions built in such as mean, median, and mode.  Just as a recap:\n",
    "- ***Mean***: average of the dataset\n",
    "- ***Median***: the middle of the set of numbers\n",
    "- ***Mode***: the most common number in a dataset\n",
    "- ***Standard Deviation***: measures the spread of the data relative to the mean\n",
    "- ***Variance***: measures how much each point differs from the mean\n",
    "\n",
    "When computing these basic statistics, you have to call it on a pandas data structure whether that be a series or dataframe.  The functions are implemented as methods of the pandas data structures instead of as sub functions of the main library."
   ]
  },
  {
   "cell_type": "code",
   "execution_count": 29,
   "id": "b5e7c50f-4a86-467f-a1a0-c9d5877a9433",
   "metadata": {},
   "outputs": [
    {
     "name": "stdout",
     "output_type": "stream",
     "text": [
      "The mean is: 7.538461538461538\n",
      "The median is: 6.0\n",
      "The mode is: 1\n",
      "The standard deviation is: 7.6006072631883015\n",
      "The variance is: 57.76923076923077\n"
     ]
    }
   ],
   "source": [
    "import pandas\n",
    "\n",
    "data = pandas.Series([1, 3, 1, 1, 6, 2, 8, 2, 9, 22, 13, 7, 23], name = \"data\")\n",
    "\n",
    "data_mean = data.mean()\n",
    "print(\"The mean is:\", data_mean)\n",
    "\n",
    "data_median = data.median()\n",
    "print(\"The median is:\", data_median)\n",
    "\n",
    "data_mode = data.mode().item()\n",
    "print(\"The mode is:\", data_mode)\n",
    "\n",
    "data_std = data.std()\n",
    "print(\"The standard deviation is:\", data_std)\n",
    "\n",
    "data_var = data.var()\n",
    "print(\"The variance is:\", data_var)"
   ]
  },
  {
   "cell_type": "markdown",
   "id": "4eb222de-083b-45b7-ace7-a466ed43d3c9",
   "metadata": {},
   "source": [
    "## Useful Functions and Features"
   ]
  },
  {
   "cell_type": "markdown",
   "id": "138d3276-644a-4d44-b635-d1b0d820ff8e",
   "metadata": {},
   "source": [
    "The Pandas library has an extensive list of functions and features that will most certainly prove to be useful to you while completing your various data science tasks.  Some of the more notable ones include:\n",
    "\n",
    "- ***read_csv()*** - use to read in data files in .csv format\n",
    "- ***head()*** - show the first few rows of a dataset/frame to preview what the data looks like\n",
    "- ***describe()*** - generates the descriptive statistics for each column in your data fram\n",
    "- ***memory_usage()*** - provides the memory usage of each data frame column \n",
    "- ***astype()*** - sets the data type for a column or series in your data frame\n",
    "- ***loc\\[:\\]*** - used to access multiple rows and columns of a data frame\n",
    "- ***to_datetime()*** - converts a Python object to DateTime format\n",
    "- ***value_counts()*** - returns counts of all unique values\n",
    "- ***drop_duplicates()*** - removes all duplicate rows\n",
    "- ***groupby()*** - used to group a data frame by one or more columns\n",
    "- ***merge()*** - used to merge 2 pandas data frame objects by column name mappings between column names\n",
    "- ***sort_values()*** - sort columns in a DataFrame\n",
    "- ***fillna()*** - used to fill in missing values within dataset"
   ]
  },
  {
   "cell_type": "code",
   "execution_count": null,
   "id": "de72b8f6-53b0-4ccd-81db-540b0f6c2f52",
   "metadata": {},
   "outputs": [],
   "source": []
  }
 ],
 "metadata": {
  "kernelspec": {
   "display_name": "Python 3 (ipykernel)",
   "language": "python",
   "name": "python3"
  },
  "language_info": {
   "codemirror_mode": {
    "name": "ipython",
    "version": 3
   },
   "file_extension": ".py",
   "mimetype": "text/x-python",
   "name": "python",
   "nbconvert_exporter": "python",
   "pygments_lexer": "ipython3",
   "version": "3.7.12"
  }
 },
 "nbformat": 4,
 "nbformat_minor": 5
}
