{
 "cells": [
  {
   "cell_type": "markdown",
   "id": "2205717a-f2ed-41f4-a0b6-7051a34ce961",
   "metadata": {},
   "source": [
    "# Basic Python: Data Structures"
   ]
  },
  {
   "cell_type": "markdown",
   "id": "47b596e0-f750-49f2-89f7-132e938f3323",
   "metadata": {
    "tags": []
   },
   "source": [
    "## Lists"
   ]
  },
  {
   "cell_type": "markdown",
   "id": "23a22a6c-b5cb-4772-825b-71f6fe7314fd",
   "metadata": {},
   "source": [
    "### Overview\n",
    "\n",
    "***Lists*** are a type of compound, built-in data type in python.  They are very versatile and can be written as a list of comma-separated items between square brackets.  Although they will typically have the same type of elements, they can contain items with various different classes.\n",
    "\n",
    "### Operations\n",
    "\n",
    "Being the most versatile of all compound, built-in data types in python, lists are capable of a variety of functions:\n",
    "\n",
    "- **append()**, adds an element at the end of the list\n",
    "- **clear()**, removes all the elements from the list\n",
    "- **copy()**, returns a copy of the list\n",
    "- **count()**, returns the number of elements with the specified value\n",
    "- **extend()**, add the elements of a list ot the end of the current list\n",
    "- **index()**, returns the index of the first element with the specified value\n",
    "- **insert()**, adds an element at the specified position\n",
    "- **pop()**, removes the element at the specified position\n",
    "- **remove()**, removes the item with the specified value\n",
    "- **reverse()**, reverses the order of the list\n",
    "- **sort()**, sorts the list"
   ]
  },
  {
   "cell_type": "code",
   "execution_count": 10,
   "id": "fa66964c-6673-4099-98f9-6b2bdc279f18",
   "metadata": {},
   "outputs": [
    {
     "name": "stdout",
     "output_type": "stream",
     "text": [
      "<class 'list'>\n",
      "['a', 2, 7]\n",
      "['a', 2, 7, 'append this string']\n",
      "['a', 2, 'append this string']\n",
      "['append this string', 2, 'a']\n"
     ]
    }
   ],
   "source": [
    "a = ['a', 2, 7]\n",
    "\n",
    "print(type(a))\n",
    "\n",
    "print(a)\n",
    "\n",
    "a.append(\"append this string\")\n",
    "\n",
    "print(a)\n",
    "\n",
    "a.pop(2)\n",
    "\n",
    "print(a)\n",
    "\n",
    "a.reverse()\n",
    "\n",
    "print(a)"
   ]
  },
  {
   "cell_type": "markdown",
   "id": "2f0619d0-71cf-4e7d-9adc-1cd8ec55775a",
   "metadata": {
    "tags": []
   },
   "source": [
    "## Tuples"
   ]
  },
  {
   "cell_type": "markdown",
   "id": "fb391d49-c510-403c-800e-934469c20e38",
   "metadata": {},
   "source": [
    "### Overview\n",
    "\n",
    "***Tuples*** are a python data structure used to store multiple items in a single variable.  Tuples differ from lists in that they contain an ordered collection that cannot be changed.\n",
    "\n",
    "### Operations\n",
    "\n",
    "Because of the inability to change a tuple once it has been created, the only operations you can perform on a tuple are *search* operations:\n",
    "\n",
    "- **count()**, returns the number of times a specified value occurs in a tuple\n",
    "- **index()**, searches the tuple for a specified value and returns the position of where it was found"
   ]
  },
  {
   "cell_type": "code",
   "execution_count": 11,
   "id": "95cb96d5-2914-4bd8-a2c8-106fae2a975b",
   "metadata": {},
   "outputs": [
    {
     "name": "stdout",
     "output_type": "stream",
     "text": [
      "<class 'tuple'>\n",
      "('dog', 'cat', 'dog', 'cat', 'dog', 'giraffe', 'monkey', 'cow', 'chicken', 'snake')\n",
      "3\n",
      "6\n"
     ]
    }
   ],
   "source": [
    "b = (\"dog\", \"cat\", \"dog\", \"cat\", \"dog\", \"giraffe\", \"monkey\", \"cow\", \"chicken\", \"snake\")\n",
    "\n",
    "print(type(b))\n",
    "\n",
    "print(b)\n",
    "\n",
    "print(b.count(\"dog\"))\n",
    "\n",
    "print(b.index(\"monkey\"))"
   ]
  },
  {
   "cell_type": "markdown",
   "id": "85704a57-d5e9-4f1a-8c82-760a0ca906a4",
   "metadata": {},
   "source": [
    "## Sets"
   ]
  },
  {
   "cell_type": "markdown",
   "id": "8ef99d5b-2e61-4218-8816-c269747ccc99",
   "metadata": {},
   "source": [
    "### Overview\n",
    "\n",
    "***Sets*** are a python data structure used to store multiple items in a single variable.  Sets differ from lists and tuples in that they are unordered, unchangeable, and unindexed.  Additionally, they do not allow duplicate values.  Because the items are unordered and unindexed, they can appear in a new order every time they are used and are unable to referenced using an index or key.  Despite the items in a set being unchangeable, they can still be removed from the set and new items can be added.\n",
    "\n",
    "### Operations\n",
    "\n",
    "Sets in python have operations and capabilities similar to sets in mathematics. In addition to this, they share some of the same operations as lists.  These include:\n",
    "\n",
    "- **add()**, adds an element to the set\n",
    "- **clear()**, removes all the elements from the set\n",
    "- **copy()**, returns a copy of the set\n",
    "- **difference()**, returns a set containing the difference between two or more sets\n",
    "- **difference_update()**, removes the items in this set that are also included in another, specified set\n",
    "- **discard()**, remove the specified item\n",
    "- **intersection()**, returns a set, that is the intersection of two other sets\n",
    "- **intersection_update()**, removes the items in this set that are not present in other, specified set(s)\n",
    "- **isdisjoint()**, returns whether two sets have a intersection or not\n",
    "- **issubset()**, returns whether another set contains this set or not\n",
    "- **issuperset()**, returns whether this set contains another set or not\n",
    "- **pop()**, removes an element from the set\n",
    "- **remove()**, removes the specified element\n",
    "- **symmetric_difference()**, returns a set with the symmetric differences of two sets \n",
    "- **symmetric_difference_update()**, inserts the symmetric differences from this set and another\n",
    "- **union()**, return a set containing the union of sets\n",
    "- **update()**, update the set with the union of ths set and others"
   ]
  },
  {
   "cell_type": "code",
   "execution_count": 24,
   "id": "a963addc-2fd9-440c-9120-1bd5556b3445",
   "metadata": {},
   "outputs": [
    {
     "name": "stdout",
     "output_type": "stream",
     "text": [
      "<class 'set'>\n",
      "{'orange', 'red', 'pink', 'blue', 'green'}\n",
      "{'yellow', 'orange', 'red', 'pink', 'blue', 'green'}\n",
      "Notice that 'yellow' is inserted randomly into the set\n",
      "{'red', 'blue'}\n",
      "{'green', 'pink', 'yellow', 'orange'}\n"
     ]
    }
   ],
   "source": [
    "c = {\"red\", \"green\", \"blue\", \"orange\", \"pink\"}\n",
    "c2 = {\"red\", \"blue\", \"black\", \"brown\"}\n",
    "print(type(c))\n",
    "\n",
    "print(c)\n",
    "\n",
    "c.add(\"yellow\")\n",
    "\n",
    "print(c)\n",
    "\n",
    "print(\"Notice that 'yellow' is inserted randomly into the set\")\n",
    "\n",
    "print(c.intersection(c2))\n",
    "\n",
    "print(c.difference(c2))"
   ]
  },
  {
   "cell_type": "markdown",
   "id": "a7f40d5f-172d-4575-9422-a26ff1aab522",
   "metadata": {},
   "source": [
    "## Dictionaries"
   ]
  },
  {
   "cell_type": "markdown",
   "id": "84d83e5e-7c65-4a3d-8db9-d46b31cd23c8",
   "metadata": {},
   "source": [
    "### Overview\n",
    "\n",
    "***Dictionaries*** are data structures in python used to store data values in *key:value pairs*.  Dictionaries are ordered, changeable, and do not allow duplicate entries.\n",
    "\n",
    "### Operations\n",
    "\n",
    "With dictionaries being one of the most unique types of built-in data structures in python, they have a somewhat unique set of operations that can performed on them. These include:\n",
    "\n",
    "- **clear()**, removes all the elements from the dictionary\n",
    "- **copy()**, returns a copy of the dictionary\n",
    "- **fromkeys()**, returns a dictionary with the specified keys and value\n",
    "- **get()**, returns the value of the specified key\n",
    "- **items()**, returns a list containing a tuple for each key-value pair\n",
    "- **keys()**, returns a list containing the dictionary's keys\n",
    "- **pop()**, removes the element with the specified key\n",
    "- **popitem()**, removes the last inserted key-value pair\n",
    "- **setdefault()**, returns the value of the specified key; if the key does not exist, insert the key, with the specified value\n",
    "- **update()**, updates the dictionary with the specified key-value pairs\n",
    "- **values()**, returns a list of all the values in the dictionary"
   ]
  },
  {
   "cell_type": "code",
   "execution_count": 29,
   "id": "1106d3d3-019c-4315-8970-83eeca50cd12",
   "metadata": {},
   "outputs": [
    {
     "name": "stdout",
     "output_type": "stream",
     "text": [
      "<class 'dict'>\n",
      "{'Jack': 14, 'Angela': 16, 'Steve': 15, 'Veronica': 16}\n",
      "{'Angela': 16, 'Steve': 15, 'Veronica': 16}\n",
      "dict_items([('Angela', 16), ('Steve', 15), ('Veronica', 16)])\n",
      "dict_values([16, 15, 16])\n"
     ]
    }
   ],
   "source": [
    "e = {\n",
    "        \"Jack\": 14,\n",
    "        \"Angela\":16,\n",
    "        \"Steve\": 15,\n",
    "        \"Veronica\":16\n",
    "}\n",
    "\n",
    "print(type(e))\n",
    "\n",
    "print(e)\n",
    "\n",
    "e.pop(\"Jack\")\n",
    "\n",
    "print(e)\n",
    "\n",
    "print(e.items())\n",
    "\n",
    "print(e.values())"
   ]
  }
 ],
 "metadata": {
  "kernelspec": {
   "display_name": "Python 3 (ipykernel)",
   "language": "python",
   "name": "python3"
  },
  "language_info": {
   "codemirror_mode": {
    "name": "ipython",
    "version": 3
   },
   "file_extension": ".py",
   "mimetype": "text/x-python",
   "name": "python",
   "nbconvert_exporter": "python",
   "pygments_lexer": "ipython3",
   "version": "3.7.12"
  }
 },
 "nbformat": 4,
 "nbformat_minor": 5
}
