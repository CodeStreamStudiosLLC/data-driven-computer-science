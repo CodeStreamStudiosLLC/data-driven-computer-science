{
 "cells": [
  {
   "cell_type": "markdown",
   "id": "ea2f77f5-61ad-4b7d-9080-7da1c6014cc5",
   "metadata": {},
   "source": [
    "# Scientific Python: NumPy and SciPy"
   ]
  },
  {
   "cell_type": "markdown",
   "id": "1c8f0179-7cb6-426f-b0fa-3fb86f09c81d",
   "metadata": {},
   "source": [
    "## Benefits"
   ]
  },
  {
   "cell_type": "markdown",
   "id": "2c6e5fc6-df49-4f26-9614-2033c0d922a6",
   "metadata": {},
   "source": [
    "### NumPy\n",
    "\n",
    "***NumPy*** is the fundamental package for scientific computing in Python.  It is a library that provides a multidimensional array object, additional derived objects, and a variety of methods and routines for executing fast operations on arrays.  These include mathematical, shape manipulation, searching, logical,  sorting, I/O, statistical, random simulation, and many other operations.  NumPy has many benefits, but some of the key benefits include:\n",
    "\n",
    "- ***Compact storage***: the data structures use less memory per item than a typical python list\n",
    "- ***Fast array loops***: array operations utilize vectorization that is implemented in C for increased speed\n",
    "- ***Slicing without copying***: slicing a NumPy array doesn't create a new object\n",
    "- ***Useful and efficient array operations***: NumPy supports array level operations such as joining, splitting, sorting, filtering, and reducing arrays\n",
    "- ***Compatibility***: NumPy is compatible with many other scientific python libraries such as SciPy, Pandas, Scikit-Learn, and Matplotlib \n",
    "\n",
    "\n",
    "### SciPy\n",
    "\n",
    "***SciPy*** is a collection of mathematical algorithms and convenience functions built on the NumPy library.  It adds functionality to programs in terms of data-processing to the point that it can rival systems and languages such as IDL, MATLAB, R-Lab, etc.  SciPy has many benefits, but some of the key benefits include:\n",
    "\n",
    "- High-level commands and classes for visualizing and manipulating data\n",
    "- Powerful and interactive sessions with Python\n",
    "- Classes, and web and database routines for parallel programming\n",
    "- Easy to use\n",
    "- Fast and efficient\n",
    "- Open-source with an active community for good support"
   ]
  },
  {
   "cell_type": "markdown",
   "id": "96aa9f43-1668-4933-9785-2243b9d9bbdb",
   "metadata": {},
   "source": [
    "## NumPy (Multidimensional, ndarrays) Arrays"
   ]
  },
  {
   "cell_type": "markdown",
   "id": "53fdcc54-3c90-4222-aa2b-7567c5792d38",
   "metadata": {},
   "source": [
    "***NumPy arrays*** are the central data structure of the NumPy library.  They are grids of values and contain information about raw data, how to locate an element, and how to interpret an element.  \n",
    "\n",
    "Generally speaking, in terms of math, these arrays can be better explained by the term *tensor*, whose dimensions are expressed by the *rank*.  For example, a vector or 1-D array would be referred to as a *rank 1 tensor* and a matrix or 2-D array would be referred to as a *rank 2 tensor*.  Each dimension or rank in an array/tensor is represented by an *axis*.  When performing operations on NumPy Arrays, "
   ]
  },
  {
   "cell_type": "markdown",
   "id": "2e35037d-d4e1-45bb-a7ed-fb909bc2d026",
   "metadata": {
    "tags": []
   },
   "source": [
    "## Basic Statistics"
   ]
  },
  {
   "cell_type": "markdown",
   "id": "99878762-ef6c-4df5-9a15-8f299ebbf268",
   "metadata": {
    "tags": []
   },
   "source": [
    "NumPy has basic statistical functions built in such as mean and median.  Just as a recap:\n",
    "- ***Mean***: average of the dataset\n",
    "- ***Median***: the middle of the set of numbers\n",
    "- ***Standard Deviation***: measures the spread of the data relative to the mean\n",
    "- ***Variance***: measures how much each point differs from the mean\n",
    "\n",
    "When computing these basic statistics, you can call them in one of two ways.  You can simply call them as directly implemented functions of the NumPy library or as methods of NumPy arrays. One important/interesting thing to note about NumPy is that there is no **mode** function and that **median** is only implemented as a direct function of NumPy, but not a method of NumPy arrays."
   ]
  },
  {
   "cell_type": "code",
   "execution_count": 1,
   "id": "983f98de-da80-4601-9878-641c264321ba",
   "metadata": {},
   "outputs": [
    {
     "name": "stdout",
     "output_type": "stream",
     "text": [
      "The mean is: 7.538461538461538\n",
      "The mean is: 7.538461538461538\n",
      "The median is: 6.0\n",
      "The standard deviation is: 7.302427253111272\n",
      "The standard deviation is: 7.302427253111272\n",
      "The variance is: 53.32544378698224\n",
      "The variance is: 53.32544378698224\n"
     ]
    }
   ],
   "source": [
    "import numpy\n",
    "\n",
    "data = numpy.array([1, 3, 1, 1, 6, 2, 8, 2, 9, 22, 13, 7, 23])\n",
    "\n",
    "data_mean = data.mean()\n",
    "print(\"The mean is:\", data_mean)\n",
    "\n",
    "data_mean = numpy.mean(data)\n",
    "print(\"The mean is:\", data_mean)\n",
    "\n",
    "data_median = numpy.median(data)\n",
    "print(\"The median is:\", data_median)\n",
    "\n",
    "data_std = data.std()\n",
    "print(\"The standard deviation is:\", data_std)\n",
    "\n",
    "data_std = numpy.std(data)\n",
    "print(\"The standard deviation is:\", data_std)\n",
    "\n",
    "data_var = data.var()\n",
    "print(\"The variance is:\", data_var)\n",
    "\n",
    "data_var = numpy.var(data)\n",
    "print(\"The variance is:\", data_var)"
   ]
  },
  {
   "cell_type": "markdown",
   "id": "db54571b-dcdb-4c3e-aa8c-8911551fccc4",
   "metadata": {},
   "source": [
    "## Useful Functions and Features"
   ]
  },
  {
   "cell_type": "markdown",
   "id": "660a9b1f-3e29-4e39-a369-b1a55dec839f",
   "metadata": {},
   "source": [
    "The NumPy and SciPy libraries have an extensive list of functions and features that will most certainly prove to be useful to you while completing your various data science tasks.  Some of the more notable ones include:\n",
    "\n",
    "- ***min and max*** - used to find the minimum and maximum value of a NumPy array\n",
    "- ***mean*** - used to find the mean value of the NumPy array\n",
    "- ***std*** - used to find the standard deviation of the NumPy array\n",
    "- ***median*** - used to find the median of a NumPy array\n",
    "- ***percentile*** - used to find the percentile in a NumPy array\n",
    "- ***linspace*** - used to get evenly spaced numbers over a specified interval\n",
    "- ***shape*** - used to get the shape of an array \n",
    "- ***reshape*** - used to reshape an array\n",
    "- ***copyto*** - copies the values of one array to another array\n",
    "- ***transpose*** - used to reverse the axes of an array \n",
    "- ***stack*** - used to join the sequence of an array along a new axis\n",
    "- ***vstack*** - used to join the sequence of an array along a new axis vertically\n",
    "- ***hstack*** - used to join the sequence of an array along a new axis horizontally\n",
    "- ***sort*** - used to get a sorted array"
   ]
  },
  {
   "cell_type": "code",
   "execution_count": null,
   "id": "2d8defdf-0877-4b4c-816d-ee30354b7e50",
   "metadata": {},
   "outputs": [],
   "source": []
  }
 ],
 "metadata": {
  "kernelspec": {
   "display_name": "Python 3 (ipykernel)",
   "language": "python",
   "name": "python3"
  },
  "language_info": {
   "codemirror_mode": {
    "name": "ipython",
    "version": 3
   },
   "file_extension": ".py",
   "mimetype": "text/x-python",
   "name": "python",
   "nbconvert_exporter": "python",
   "pygments_lexer": "ipython3",
   "version": "3.7.12"
  }
 },
 "nbformat": 4,
 "nbformat_minor": 5
}
