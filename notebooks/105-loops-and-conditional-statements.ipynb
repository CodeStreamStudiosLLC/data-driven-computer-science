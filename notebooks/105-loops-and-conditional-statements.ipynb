{
 "cells": [
  {
   "cell_type": "markdown",
   "id": "9ee8e8fc-c0ac-424f-b933-8749189019bf",
   "metadata": {},
   "source": [
    "# Basic Python: Loops and Conditional Statements"
   ]
  },
  {
   "cell_type": "markdown",
   "id": "a1a185c0-6360-453b-bf87-4808d835b64a",
   "metadata": {
    "tags": []
   },
   "source": [
    "## For Loops"
   ]
  },
  {
   "cell_type": "markdown",
   "id": "c8a8ef79-0733-4dd0-9248-7c8d76bf7213",
   "metadata": {},
   "source": [
    "A ***for loop*** is used for iterating over a sequence whether it be elements in a list, dictionary, string, set, etc. In python, for loops act more like iterator methods as opposed the traditional for loops in other languages.\n",
    "\n",
    "### Zip\n",
    "\n",
    "In python, the ***zip*** function, allows you to combine multiple lists or arrays.  By doing this, you are able to iterate over multiple lists simultaneously.  When doing this, it is important to keep in mind that if the lists do not have equal lengths, you will only be able to iterate until you reach the limit of the shortest list.\n",
    "\n",
    "### Enumerate\n",
    "\n",
    "In python, the ***enumerate*** function, allows you to keep track of the index of the items you are iterating over in your list(s)."
   ]
  },
  {
   "cell_type": "code",
   "execution_count": 17,
   "id": "feabbc9f-01b5-40a3-9f03-3c47597c4e6b",
   "metadata": {},
   "outputs": [
    {
     "name": "stdout",
     "output_type": "stream",
     "text": [
      "The length of the names list is: 5\n",
      "The lenght of the ages list is: 6\n",
      "Adrien is in position 0 and is 16 years old.\n",
      "Britney is in position 1 and is 17 years old.\n",
      "Charles is in position 2 and is 14 years old.\n",
      "Debra is in position 3 and is 15 years old.\n",
      "Eric is in position 4 and is 18 years old.\n"
     ]
    }
   ],
   "source": [
    "names = [\"Adrien\", \"Britney\", \"Charles\", \"Debra\", \"Eric\"]\n",
    "ages = [16, 17, 14, 15, 18, 9]\n",
    "\n",
    "print(\"The length of the names list is:\", len(names))\n",
    "print(\"The lenght of the ages list is:\", len(ages))\n",
    "\n",
    "combined = zip(names, ages)\n",
    "\n",
    "for i, (name, age) in enumerate(combined):\n",
    "    print(name, \"is in position\", i, \"and is\", age, \"years old.\")"
   ]
  },
  {
   "cell_type": "markdown",
   "id": "72e3ecd2-3230-47ad-bc4a-cf576b5f7cf9",
   "metadata": {},
   "source": [
    "## While Loops"
   ]
  },
  {
   "cell_type": "markdown",
   "id": "86577621-bf65-4d35-8d45-f950a6551cb9",
   "metadata": {},
   "source": [
    "A ***while loop*** is used to execute a set of statements as long as a specified condition is true. If you wish to terminate a while loop even when the specified condition is true, you can use a *break* statement.  Break statements allow you to override the while loop condition using a secondary condition. *Continue* statements allow you skip iterations in the loop if a certain condition is met.  *Else* statements allow you to run a block of code once the while loop condition is no longer met.  In cases where there is no code/statement within the loop that will cause the loop to terminate, you have a situation where an *infinite loop* is created.  Infinite loops are loops that run indefinitely and cannot be terminated without terminating the program.  In some cases, infinite loops will cause memory issues resulting in program/computer crashes.  "
   ]
  },
  {
   "cell_type": "code",
   "execution_count": 18,
   "id": "28d495fe-1096-4452-8118-8cc848a34ad4",
   "metadata": {},
   "outputs": [
    {
     "name": "stdout",
     "output_type": "stream",
     "text": [
      "Adrien is in position 0 and is 16 years old.\n",
      "Britney is in position 1 and is 17 years old.\n",
      "Charles is in position 2 and is 14 years old.\n",
      "Debra is in position 3 and is 15 years old.\n",
      "Eric is in position 4 and is 18 years old.\n",
      "The value of i is no longer less than the length of the names list.\n"
     ]
    }
   ],
   "source": [
    "i = 0\n",
    "\n",
    "while i < len(names):\n",
    "    print(names[i], \"is in position\", i, \"and is\", ages[i], \"years old.\")\n",
    "    i += 1\n",
    "else:\n",
    "    print(\"The value of i is no longer less than the length of the names list.\")"
   ]
  },
  {
   "cell_type": "markdown",
   "id": "defc3a19-029b-477e-bdbd-9bbc44227719",
   "metadata": {},
   "source": [
    "## Conditional Statements"
   ]
  },
  {
   "cell_type": "markdown",
   "id": "2a9ce2aa-0579-4652-ab80-2d266c676b0d",
   "metadata": {},
   "source": [
    "Conditional statements in python use blocks of code that are executed when certain conditions are met.  These blocks of code are organized using ***if, else,*** and ***elsif*** statements.  The *conditions* for these statements are written using pythons logical conditions from mathematics.  When using conditional statements&mdash;especially *nested* conditional statements&mdash;it is important to pay close attention to your indentation.  Python relies on indentation to define each block of code's scope."
   ]
  },
  {
   "cell_type": "code",
   "execution_count": 20,
   "id": "72bdd031-91a8-46f7-9b88-aeb0e9f180fb",
   "metadata": {},
   "outputs": [
    {
     "name": "stdout",
     "output_type": "stream",
     "text": [
      "The name Adrien starts with the letter 'A'\n",
      "The name does not contain the letter 'a'\n",
      "Charles\n",
      "Debra\n",
      "The name does not contain the letter 'a'\n"
     ]
    }
   ],
   "source": [
    "for name in names:\n",
    "    if \"a\" in name:\n",
    "        print(name)\n",
    "    elif \"A\" in name:\n",
    "        print(\"The name\", name,  \"starts with the letter 'A'\")        \n",
    "    else:\n",
    "        print(\"The name does not contain the letter 'a'\")"
   ]
  },
  {
   "cell_type": "code",
   "execution_count": null,
   "id": "98c94ab5-bbc5-4a97-bbd6-20f0c9379e07",
   "metadata": {},
   "outputs": [],
   "source": []
  }
 ],
 "metadata": {
  "kernelspec": {
   "display_name": "Python 3 (ipykernel)",
   "language": "python",
   "name": "python3"
  },
  "language_info": {
   "codemirror_mode": {
    "name": "ipython",
    "version": 3
   },
   "file_extension": ".py",
   "mimetype": "text/x-python",
   "name": "python",
   "nbconvert_exporter": "python",
   "pygments_lexer": "ipython3",
   "version": "3.7.12"
  }
 },
 "nbformat": 4,
 "nbformat_minor": 5
}
