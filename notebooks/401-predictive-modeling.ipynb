{
 "cells": [
  {
   "cell_type": "markdown",
   "id": "72bb1960-c50e-4c73-bbb3-0cf5a2bfc9de",
   "metadata": {},
   "source": [
    "# Model Development Challenge: Predictive Modeling"
   ]
  },
  {
   "cell_type": "markdown",
   "id": "530776f6-698d-4295-af6a-ea788d1314f5",
   "metadata": {},
   "source": [
    "## Classification"
   ]
  },
  {
   "cell_type": "markdown",
   "id": "82f70536-ff17-476b-9888-733f1cac3152",
   "metadata": {},
   "source": [
    "### What is ***classification***?\n",
    "\n",
    "***Classification*** is the process of mapping a set of inputs to a discrete output variable.  The output variable is representative of the possible set of classes.  When looking at *classification* in reference to machine learning models, the goal is to get the machine learning model to learn a mapping function given a set of (class) labeled input data."
   ]
  },
  {
   "cell_type": "code",
   "execution_count": null,
   "id": "d1f3bfde-5f09-4028-a075-1f15612084a0",
   "metadata": {},
   "outputs": [],
   "source": [
    "import numpy\n",
    "from sklearn.linear_model import SGDClassifier\n",
    "from sklearn.pipeline import make_pipeline\n",
    "from sklearn.preprocessing import StandardScaler"
   ]
  },
  {
   "cell_type": "code",
   "execution_count": null,
   "id": "8145853d-137c-4fba-9f81-ccd92f3be1f4",
   "metadata": {},
   "outputs": [],
   "source": [
    "n_samples, n_features = 10, 5\n",
    "rng = numpy.random.RandomState(13)\n",
    "\n",
    "y = rng.randn(n_samples)\n",
    "x = rng.randn(n_samples, n_features)\n",
    "\n",
    "test_input = rng.randn(n_features).reshape(1,-1)\n",
    "\n",
    "reg = make_pipeline(StandardScaler(), SGDRegressor(max_iter=1000, tol=1e-3))\n",
    "reg.fit(x,y)\n",
    "\n",
    "reg.predict(test_input)"
   ]
  },
  {
   "cell_type": "markdown",
   "id": "25c1733b-8381-4813-b45c-709bfc1e6746",
   "metadata": {
    "tags": []
   },
   "source": [
    "## Regression"
   ]
  },
  {
   "cell_type": "markdown",
   "id": "86b1ddc2-82d2-40ae-b827-ea4463c7c9fb",
   "metadata": {
    "tags": []
   },
   "source": [
    "### What is ***regression***?\n",
    "\n",
    "***Regression*** is the process of mapping a set of inputs to a continuous output variable, or in the case of *multiple regression* multiple continuous variables.  The output variable(s) is representative of some real value/quantity that you want to predict.  This could be price, temperature, time, etc.  When looking at *regression* in reference to machine learning models, the goal is to get the model to learn a mapping function given a set of (value) labeled input data.  Regression can also be used to predict the ***probability*** that a particular input corresponds to each *class*."
   ]
  },
  {
   "cell_type": "code",
   "execution_count": null,
   "id": "d7e12e2a-0984-4dcf-bdd8-535d39a4805c",
   "metadata": {},
   "outputs": [],
   "source": [
    "import numpy\n",
    "from sklearn.linear_model import SGDRegressor\n",
    "from sklearn.pipeline import make_pipeline\n",
    "from sklearn.preprocessing import StandardScaler"
   ]
  },
  {
   "cell_type": "code",
   "execution_count": null,
   "id": "d6291507-bcaa-412e-8c7e-6bd86ac50c9b",
   "metadata": {},
   "outputs": [],
   "source": [
    "n_samples, n_features = 10, 5\n",
    "rng = numpy.random.RandomState(13)\n",
    "\n",
    "y = rng.choice(10, n_samples)\n",
    "x = rng.randn(n_samples, n_features)\n",
    "\n",
    "test_input = rng.randn(n_features).reshape(1, -1)\n",
    "\n",
    "clf = SGDClassifier(max_iter=1000, loss='hinge', penalty=\"l2\")\n",
    "clf.fit(x,y)\n",
    "\n",
    "clf.predict(test_input)"
   ]
  }
 ],
 "metadata": {
  "kernelspec": {
   "display_name": "Python 3 (ipykernel)",
   "language": "python",
   "name": "python3"
  },
  "language_info": {
   "codemirror_mode": {
    "name": "ipython",
    "version": 3
   },
   "file_extension": ".py",
   "mimetype": "text/x-python",
   "name": "python",
   "nbconvert_exporter": "python",
   "pygments_lexer": "ipython3",
   "version": "3.7.12"
  }
 },
 "nbformat": 4,
 "nbformat_minor": 5
}
