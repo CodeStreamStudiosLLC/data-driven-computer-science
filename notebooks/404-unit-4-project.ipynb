{
 "cells": [
  {
   "cell_type": "markdown",
   "id": "72bb1960-c50e-4c73-bbb3-0cf5a2bfc9de",
   "metadata": {
    "tags": []
   },
   "source": [
    "# Model Development Challenge: Project"
   ]
  },
  {
   "cell_type": "markdown",
   "id": "78718da7-be02-4091-93cb-81a191ec0122",
   "metadata": {},
   "source": [
    "For this project, use what you have learned in Units 1-4 to execute a data science workflow on the breast cancer dataset (sklearn).  For this project, you must:\n",
    "\n",
    "- Load the breast cancer dataset from sklearn\n",
    "- Examine your data using pandas\n",
    "- Perform statistical analysis for the numeric features in the dataset\n",
    "- Perform data visualization comparing each pair of features to look for a correlation and state the type of trend/correlation that you see if any and why\n",
    "- Train 3 different classifiers or regressors from sklearn given the target variable and explain why you chose the type of model\n",
    "- Compare the 3 models that you trained and tested\n",
    "- Explain the conclusions that you drew from your comparisons"
   ]
  },
  {
   "cell_type": "code",
   "execution_count": null,
   "id": "e15b4e2d-310b-4e7d-9fa4-a05dc0739fca",
   "metadata": {},
   "outputs": [],
   "source": []
  }
 ],
 "metadata": {
  "kernelspec": {
   "display_name": "Python 3 (ipykernel)",
   "language": "python",
   "name": "python3"
  },
  "language_info": {
   "codemirror_mode": {
    "name": "ipython",
    "version": 3
   },
   "file_extension": ".py",
   "mimetype": "text/x-python",
   "name": "python",
   "nbconvert_exporter": "python",
   "pygments_lexer": "ipython3",
   "version": "3.7.12"
  }
 },
 "nbformat": 4,
 "nbformat_minor": 5
}
