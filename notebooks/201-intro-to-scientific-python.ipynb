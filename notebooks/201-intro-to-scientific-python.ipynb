{
 "cells": [
  {
   "cell_type": "markdown",
   "id": "f22bf25a-3a09-4ddd-bfb1-bbd9ba54dbd6",
   "metadata": {},
   "source": [
    "# Scientific Python: Introduction to Scientific Python"
   ]
  },
  {
   "cell_type": "markdown",
   "id": "ea53df87-51fd-4152-892a-ec7fa979f43b",
   "metadata": {},
   "source": [
    "## Purpose"
   ]
  },
  {
   "cell_type": "markdown",
   "id": "bddf84a9-6a1c-4013-9bcc-06145a6f4c90",
   "metadata": {},
   "source": [
    "### What is the purpose of ***scientific python***?\n",
    "\n",
    "For the purposes of this course, ***scientific python*** will refer to the act or process of using the Python programming language to complete any scientific, engineering, or related task.  There is no specific set of packages that you have to use to do scientific python, but there are some well developed, supported, and popular packages.  In the end, it all comes down to what you feel most comfortable working with to complete your complex scientific tasks. "
   ]
  },
  {
   "cell_type": "markdown",
   "id": "defdbd67-ea48-4af8-a5e1-d71618ca63ac",
   "metadata": {},
   "source": [
    "## Popular Packages"
   ]
  },
  {
   "cell_type": "markdown",
   "id": "a769e49b-ab7e-4c18-8dec-ee68952bf6d7",
   "metadata": {},
   "source": [
    "### What are some popular scientific python packages?\n",
    "\n",
    "There is a fairly extensive list of packages that are used in scientific python, but three of the most popular are:\n",
    "\n",
    "- Pandas\n",
    "- NumPy/SciPy\n",
    "- Scikit-Learn\n",
    "\n",
    "Each of these packages has their own set of advantages and disadvantages that will be discussed in subsequent lessons, but they are all capable of working with each other nearly seamlessly."
   ]
  },
  {
   "cell_type": "code",
   "execution_count": null,
   "id": "3fec5899-c517-488d-9001-56916b97ef4b",
   "metadata": {},
   "outputs": [],
   "source": []
  }
 ],
 "metadata": {
  "kernelspec": {
   "display_name": "Python 3 (ipykernel)",
   "language": "python",
   "name": "python3"
  },
  "language_info": {
   "codemirror_mode": {
    "name": "ipython",
    "version": 3
   },
   "file_extension": ".py",
   "mimetype": "text/x-python",
   "name": "python",
   "nbconvert_exporter": "python",
   "pygments_lexer": "ipython3",
   "version": "3.7.12"
  }
 },
 "nbformat": 4,
 "nbformat_minor": 5
}
