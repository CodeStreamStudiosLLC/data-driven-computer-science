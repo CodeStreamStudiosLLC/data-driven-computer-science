{
 "cells": [
  {
   "cell_type": "markdown",
   "id": "94563f44-855a-48a6-9eea-ee2bf4e709e4",
   "metadata": {},
   "source": [
    "# Basic Python: Introduction to Python"
   ]
  },
  {
   "cell_type": "markdown",
   "id": "2ebcc49b-5d32-4102-a726-96752e82a761",
   "metadata": {},
   "source": [
    "## Python Basics"
   ]
  },
  {
   "cell_type": "markdown",
   "id": "64ece726-1945-471e-886d-fc529da76f25",
   "metadata": {},
   "source": [
    "### What is ***python***?\n",
    "\n",
    "***Python*** is a programming language that allows you to work and integrate systems efficiently and effectively.  It is one of easiest and most powerful programming languages to learn because of its intuitiveness and capabilities.\n",
    "\n",
    "### What is ***python*** used for?\n",
    "\n",
    "- Artificial Intelligence and Machine Learning\n",
    "- Data Analytics\n",
    "- Data Science\n",
    "- Data Visualization\n",
    "- Programming Applications\n",
    "- Web Development\n",
    "- Game Development \n",
    "- Finance"
   ]
  },
  {
   "cell_type": "markdown",
   "id": "0b6aa2b3-504d-4243-ad57-7b92333c79c7",
   "metadata": {},
   "source": [
    "## Importing Packages"
   ]
  },
  {
   "cell_type": "markdown",
   "id": "c1f93f73-f5b5-4c79-9d0b-ed543b90d1fc",
   "metadata": {},
   "source": [
    "Python ***packages*** are collections of modules that are related to each other.  They can be standalone packages or have dependencies on other packages.  Packages can be imported and referenced:\n",
    "\n",
    "- using the package name\n",
    "- using an alias\n",
    "- using a subpackage/module/function name\n",
    "\n",
    "To demonstrate each of these cases, we are going to use the *numpy* python package for mathematical python applications."
   ]
  },
  {
   "cell_type": "markdown",
   "id": "d5f94681-600a-416f-b2af-37992f8892d1",
   "metadata": {},
   "source": [
    "#### Using the Package Name"
   ]
  },
  {
   "cell_type": "code",
   "execution_count": 1,
   "id": "de3e9027-f219-4e84-bc30-afa7c3631e43",
   "metadata": {},
   "outputs": [],
   "source": [
    "import numpy"
   ]
  },
  {
   "cell_type": "code",
   "execution_count": 2,
   "id": "8f7188b8-3b9a-4c48-a2df-55e57898fc90",
   "metadata": {},
   "outputs": [
    {
     "name": "stdout",
     "output_type": "stream",
     "text": [
      "2.0\n"
     ]
    }
   ],
   "source": [
    "x = numpy.mean([1, 2, 3])\n",
    "print(x)"
   ]
  },
  {
   "cell_type": "markdown",
   "id": "7f126b76-1f1d-40fa-bbde-9ae017505785",
   "metadata": {},
   "source": [
    "#### Using an Alias"
   ]
  },
  {
   "cell_type": "code",
   "execution_count": 3,
   "id": "f0cbfebe-1825-4cf9-9b31-2628618bb1c9",
   "metadata": {},
   "outputs": [],
   "source": [
    "import numpy as np"
   ]
  },
  {
   "cell_type": "code",
   "execution_count": 4,
   "id": "1d66a511-9ed0-4e85-8d43-27a30e44b36c",
   "metadata": {},
   "outputs": [
    {
     "name": "stdout",
     "output_type": "stream",
     "text": [
      "2.0\n"
     ]
    }
   ],
   "source": [
    "y = np.mean([1, 2, 3])\n",
    "print(y)"
   ]
  },
  {
   "cell_type": "markdown",
   "id": "a6fa0c60-2c47-4758-90da-4ee099c26107",
   "metadata": {},
   "source": [
    "#### Using a Subpackage/Module/Function Name"
   ]
  },
  {
   "cell_type": "code",
   "execution_count": 5,
   "id": "39e0e481-e604-476d-a6a2-7d95a914ae75",
   "metadata": {},
   "outputs": [],
   "source": [
    "from numpy import mean"
   ]
  },
  {
   "cell_type": "code",
   "execution_count": 6,
   "id": "ad66ba9a-b124-47a0-84e2-e1d56bc3d7c5",
   "metadata": {},
   "outputs": [
    {
     "name": "stdout",
     "output_type": "stream",
     "text": [
      "2.0\n"
     ]
    }
   ],
   "source": [
    "z = mean([1, 2, 3])\n",
    "print(z)"
   ]
  },
  {
   "cell_type": "markdown",
   "id": "6e60c7c9-da7b-434a-b0c0-e4bb14652d88",
   "metadata": {},
   "source": [
    "## Print Statements"
   ]
  },
  {
   "cell_type": "markdown",
   "id": "cb212ad7-9155-4aa5-94b0-14323160897f",
   "metadata": {},
   "source": [
    "The python ***print*** function is used to print the contents of a python object to a specified output device or text file.  By default, the object's contents are printed out to the standard output (screen).  If there are multiple objects being printed with a single statement, by default the each object's contents is separated by a single space (' ') and a  new line is added at the end. If you wish to change the default behavior, you can modify the following parameters using their keywords:\n",
    "\n",
    "- sep: specify the character that you wish to use to separate your objects if printing multiple objects with a single print statement\n",
    "- end: specify the character that you wish to use to add to the end of your object's contents\n",
    "- file: specify the destination for the object contents when you run the *print* function"
   ]
  },
  {
   "cell_type": "code",
   "execution_count": 7,
   "id": "ab0004ea-8f9b-4f89-aa18-d155bb9656ba",
   "metadata": {},
   "outputs": [
    {
     "name": "stdout",
     "output_type": "stream",
     "text": [
      "a b c\n",
      "d e f\n"
     ]
    }
   ],
   "source": [
    "a = \"a\"\n",
    "b = \"b\"\n",
    "c = \"c\"\n",
    "d = \"d\"\n",
    "e = \"e\"\n",
    "f = \"f\"\n",
    "\n",
    "print(a, b, c)\n",
    "print(d, e, f)"
   ]
  },
  {
   "cell_type": "code",
   "execution_count": 8,
   "id": "3b11836c-ad0c-4e9a-9054-b62f813add23",
   "metadata": {},
   "outputs": [
    {
     "name": "stdout",
     "output_type": "stream",
     "text": [
      "a%b%c\n",
      "d%e%f\n"
     ]
    }
   ],
   "source": [
    "print(a, b, c, sep=\"%\")\n",
    "print(d, e, f, sep=\"%\")"
   ]
  },
  {
   "cell_type": "code",
   "execution_count": 9,
   "id": "3362ad10-3399-4864-87de-5031a7d5c2c4",
   "metadata": {},
   "outputs": [
    {
     "name": "stdout",
     "output_type": "stream",
     "text": [
      "a b c\n",
      "\n",
      "\n",
      "\n",
      "d e f\n",
      "\n",
      "\n",
      "\n"
     ]
    }
   ],
   "source": [
    "print(a, b, c, end=\"\\n\\n\\n\\n\")\n",
    "print(d, e, f, end=\"\\n\\n\\n\\n\")"
   ]
  },
  {
   "cell_type": "markdown",
   "id": "0de68fbd-248e-465d-88a4-01686b7cda3d",
   "metadata": {},
   "source": [
    "## Casting"
   ]
  },
  {
   "cell_type": "markdown",
   "id": "b7a7b721-03ca-4459-91b0-cf93e0de1609",
   "metadata": {},
   "source": [
    "Given that python is an object-oriented programming language, the objects and their behavior are defined by their associated class/data type.  Because of this, it may be desired to specify the specific data type for an object in order to control/guarantee its behavior.  The method of doing this is called **casting**.  It involves wrapping an object in the desired data type.  There are numerous data types that you can use for casting, but here we'll demonstrate and work with:\n",
    "- integer values, int\n",
    "- floating point values, float\n",
    "- strings, string"
   ]
  },
  {
   "cell_type": "code",
   "execution_count": 10,
   "id": "f1afb65a-f6ea-4ed2-a817-6eddddee4237",
   "metadata": {},
   "outputs": [
    {
     "name": "stdout",
     "output_type": "stream",
     "text": [
      "1\n",
      "5.3\n",
      "2.6666666666666665\n",
      "The data type for val0 is: <class 'int'>\n",
      "The data type for val1 is: <class 'float'>\n",
      "The data type for val2 is: <class 'float'>\n"
     ]
    }
   ],
   "source": [
    "val0 = 1\n",
    "val1 = 5.3\n",
    "val2 = (8/3)\n",
    "\n",
    "print(val0, val1, val2, sep=\"\\n\")\n",
    "print(\"The data type for val0 is:\", type(val0))\n",
    "print(\"The data type for val1 is:\", type(val1))\n",
    "print(\"The data type for val2 is:\", type(val2))"
   ]
  },
  {
   "cell_type": "markdown",
   "id": "1558acc0-eb82-4b25-a1c2-aa00bdae0908",
   "metadata": {
    "tags": []
   },
   "source": [
    "##### Behavior\n",
    "\n",
    "As you can see from the following lines of code, when you add a mix of floats and integers, your result will be the class of the numeric type with the greatest precision (float in this case)."
   ]
  },
  {
   "cell_type": "code",
   "execution_count": 11,
   "id": "8c95820f-bdac-4cdd-b8d1-a8fe474a1912",
   "metadata": {},
   "outputs": [
    {
     "name": "stdout",
     "output_type": "stream",
     "text": [
      "8.966666666666667\n",
      "<class 'float'>\n"
     ]
    }
   ],
   "source": [
    "print(val0+val1+val2)\n",
    "print(type(val0+val1+val2))"
   ]
  },
  {
   "cell_type": "markdown",
   "id": "889f8b9b-30e1-4d27-bbdb-00a3f1b792de",
   "metadata": {},
   "source": [
    "#### Integers"
   ]
  },
  {
   "cell_type": "code",
   "execution_count": 12,
   "id": "cfb2fa12-6207-4748-80ef-fc0898f84135",
   "metadata": {},
   "outputs": [
    {
     "name": "stdout",
     "output_type": "stream",
     "text": [
      "Before casting, val0 was: 1 , and after casting into an integer, val0 became: 1\n",
      "Before casting, val1 was: 5.3 , and after casting into an integer, val1 became: 5\n",
      "Before casting, val2 was: 2.6666666666666665 , and after casting into an integer, val2 became: 2\n"
     ]
    }
   ],
   "source": [
    "val0_int = int(val0)\n",
    "val1_int = int(val1)\n",
    "val2_int = int(val2)\n",
    "\n",
    "print(\"Before casting, val0 was:\", val0, \", and after casting into an integer, val0 became:\", val0_int)\n",
    "print(\"Before casting, val1 was:\", val1, \", and after casting into an integer, val1 became:\", val1_int)\n",
    "print(\"Before casting, val2 was:\", val2, \", and after casting into an integer, val2 became:\", val2_int)"
   ]
  },
  {
   "cell_type": "markdown",
   "id": "d50ed53c-7fa6-4a3b-9b03-aecd34032f7c",
   "metadata": {
    "tags": []
   },
   "source": [
    "##### Behavior\n",
    "\n",
    "As you can see from the following lines of code, when you add a set of integers, you will get the sum in the form of an integer."
   ]
  },
  {
   "cell_type": "code",
   "execution_count": 13,
   "id": "c2d7990a-b709-4694-8625-c38ea22a0b49",
   "metadata": {},
   "outputs": [
    {
     "name": "stdout",
     "output_type": "stream",
     "text": [
      "8\n",
      "<class 'int'>\n"
     ]
    }
   ],
   "source": [
    "print(val0_int+val1_int+val2_int)\n",
    "print(type(val0_int+val1_int+val2_int))"
   ]
  },
  {
   "cell_type": "markdown",
   "id": "8d411a30-da6b-493c-9ef4-3a1289b435cc",
   "metadata": {},
   "source": [
    "#### Floats"
   ]
  },
  {
   "cell_type": "code",
   "execution_count": 14,
   "id": "90840e1b-f8e3-4f10-aca5-3799a5d5ed3a",
   "metadata": {},
   "outputs": [
    {
     "name": "stdout",
     "output_type": "stream",
     "text": [
      "Before casting, val0 was: 1 , and after casting into a float, val0 became: 1.0\n",
      "Before casting, val1 was: 5.3 , and after casting into a float, val1 became: 5.3\n",
      "Before casting, val2 was: 2.6666666666666665 , and after casting into a float, val2 became: 2.6666666666666665\n"
     ]
    }
   ],
   "source": [
    "val0_float = float(val0)\n",
    "val1_float = float(val1)\n",
    "val2_float = float(val2)\n",
    "\n",
    "print(\"Before casting, val0 was:\", val0, \", and after casting into a float, val0 became:\", val0_float)\n",
    "print(\"Before casting, val1 was:\", val1, \", and after casting into a float, val1 became:\", val1_float)\n",
    "print(\"Before casting, val2 was:\", val2, \", and after casting into a float, val2 became:\", val2_float)"
   ]
  },
  {
   "cell_type": "markdown",
   "id": "277a4de6-560f-4f08-800e-1c4d9012e744",
   "metadata": {},
   "source": [
    "##### Behavior\n",
    "\n",
    "As you can see from the following lines of code, when you add a set of floats, you will get the sum in the form of a float."
   ]
  },
  {
   "cell_type": "code",
   "execution_count": 15,
   "id": "b34eec6e-8226-4bba-8b9a-600b1c765ca2",
   "metadata": {},
   "outputs": [
    {
     "name": "stdout",
     "output_type": "stream",
     "text": [
      "8.966666666666667\n",
      "<class 'float'>\n"
     ]
    }
   ],
   "source": [
    "print(val0_float+val1_float+val2_float)\n",
    "print(type(val0_float+val1_float+val2_float))"
   ]
  },
  {
   "cell_type": "markdown",
   "id": "e3f3fb9c-5b1c-42aa-91cd-936b280c1c4d",
   "metadata": {},
   "source": [
    "#### Strings"
   ]
  },
  {
   "cell_type": "code",
   "execution_count": 16,
   "id": "b2d64875-0bde-4c35-bfa7-d7cb3155be09",
   "metadata": {},
   "outputs": [
    {
     "name": "stdout",
     "output_type": "stream",
     "text": [
      "Before casting, val0 was: 1 , and after casting into a string, val0 became: 1\n",
      "Before casting, val1 was: 5.3 , and after casting into a string, val1 became: 5.3\n",
      "Before casting, val2 was: 2.6666666666666665 , and after casting into a string, val2 became: 2.6666666666666665\n"
     ]
    }
   ],
   "source": [
    "val0_str = str(val0)\n",
    "val1_str = str(val1)\n",
    "val2_str = str(val2)\n",
    "\n",
    "print(\"Before casting, val0 was:\", val0, \", and after casting into a string, val0 became:\", val0_str)\n",
    "print(\"Before casting, val1 was:\", val1, \", and after casting into a string, val1 became:\", val1_str)\n",
    "print(\"Before casting, val2 was:\", val2, \", and after casting into a string, val2 became:\", val2_str)"
   ]
  },
  {
   "cell_type": "markdown",
   "id": "3a27c19a-370a-49af-90fd-778110309fe3",
   "metadata": {},
   "source": [
    "##### Behavior\n",
    "\n",
    "As you can see from the following lines of code, when you \"add\" a set of strings, you will get the concatenation of all the strings in the form of a string."
   ]
  },
  {
   "cell_type": "code",
   "execution_count": 17,
   "id": "f379c53c-e1f3-4bec-b91e-9e090e20a125",
   "metadata": {},
   "outputs": [
    {
     "name": "stdout",
     "output_type": "stream",
     "text": [
      "15.32.6666666666666665\n",
      "<class 'str'>\n"
     ]
    }
   ],
   "source": [
    "print(val0_str+val1_str+val2_str)\n",
    "print(type(val0_str+val1_str+val2_str))"
   ]
  },
  {
   "cell_type": "code",
   "execution_count": null,
   "id": "309d62c7-05ac-4b2a-9f1b-c4e79e6ca51c",
   "metadata": {},
   "outputs": [],
   "source": []
  }
 ],
 "metadata": {
  "kernelspec": {
   "display_name": "Python 3 (ipykernel)",
   "language": "python",
   "name": "python3"
  },
  "language_info": {
   "codemirror_mode": {
    "name": "ipython",
    "version": 3
   },
   "file_extension": ".py",
   "mimetype": "text/x-python",
   "name": "python",
   "nbconvert_exporter": "python",
   "pygments_lexer": "ipython3",
   "version": "3.7.12"
  }
 },
 "nbformat": 4,
 "nbformat_minor": 5
}
