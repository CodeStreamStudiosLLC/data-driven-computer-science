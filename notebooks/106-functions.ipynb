{
 "cells": [
  {
   "cell_type": "markdown",
   "id": "89c61e72-584b-4f42-8bc8-e401c592f3f8",
   "metadata": {},
   "source": [
    "# Basic Python: Functions"
   ]
  },
  {
   "cell_type": "markdown",
   "id": "d1d24401-76ec-4fdd-8acc-e69a0fb9709d",
   "metadata": {},
   "source": [
    "## Defining Functions"
   ]
  },
  {
   "cell_type": "markdown",
   "id": "6cff924a-e45c-44dd-a9bf-5269edeb17e8",
   "metadata": {},
   "source": [
    "A ***function*** is a block of code that is only executed when it is *called*.  Functions can take in data in the form of parameters or no data at all.  They can return one or more values or nothing at all.  Functions are defined using the **def** keyword, followed by the name of the function, parentheses, and a colon.  Using functions in python is beneficial for the following reasons:\n",
    "\n",
    "- Reduction in duplication in code\n",
    "- Enables you to break down complex tasks into simpler ones\n",
    "- Improves clarity and readability of code\n",
    "- Allows for easy re-use of code\n",
    "- Allows you to hide information that you don't necessarily want shown\n",
    "\n",
    "### Assertions\n",
    "\n",
    "In python, *assertions* are made using the ***assert*** function.  Assertions are useful for making sure the data that is passed into a function belongs to the correct class and/or exists."
   ]
  },
  {
   "cell_type": "code",
   "execution_count": 1,
   "id": "90c11426-4a74-4f78-a752-3b34709b5446",
   "metadata": {},
   "outputs": [],
   "source": [
    "def multiply_by_10(val):\n",
    "    assert(isinstance(val, (int, float)))\n",
    "    return (val*10)\n",
    "\n",
    "def multiply_by_n(val, n=7):\n",
    "    assert(isinstance(val, (int,float)))\n",
    "    assert(isinstance(n, (int, float)))\n",
    "    return (val*n)"
   ]
  },
  {
   "cell_type": "markdown",
   "id": "88099305-0a1f-4b06-94b2-03b1e99c97dd",
   "metadata": {},
   "source": [
    "## Calling Functions"
   ]
  },
  {
   "cell_type": "markdown",
   "id": "22bbc536-7bdb-4646-9510-fd3d214572b0",
   "metadata": {},
   "source": [
    "Calling functions in python is as simple as using the function's name followed by parentheses.  If the function takes parameters, the parameters must be included in between the parentheses with commas separating each parameter.  The primary exception for this is if the function is defined with default parameters.  In this case, by not explicitly including parameters in the function call, the default parameter values are used.  "
   ]
  },
  {
   "cell_type": "code",
   "execution_count": 8,
   "id": "04db049a-e1fa-44d2-83d2-557b609c48a2",
   "metadata": {},
   "outputs": [
    {
     "name": "stdout",
     "output_type": "stream",
     "text": [
      "7250\n",
      "532.0\n",
      "364\n",
      "40\n"
     ]
    }
   ],
   "source": [
    "product = multiply_by_10(725)\n",
    "\n",
    "print(product)\n",
    "\n",
    "product = multiply_by_10(53.2)\n",
    "\n",
    "print(product)\n",
    "\n",
    "product = multiply_by_n(52)\n",
    "\n",
    "print(product)\n",
    "\n",
    "product = multiply_by_n(5, n=8)\n",
    "\n",
    "print(product)"
   ]
  }
 ],
 "metadata": {
  "kernelspec": {
   "display_name": "Python 3 (ipykernel)",
   "language": "python",
   "name": "python3"
  },
  "language_info": {
   "codemirror_mode": {
    "name": "ipython",
    "version": 3
   },
   "file_extension": ".py",
   "mimetype": "text/x-python",
   "name": "python",
   "nbconvert_exporter": "python",
   "pygments_lexer": "ipython3",
   "version": "3.7.12"
  }
 },
 "nbformat": 4,
 "nbformat_minor": 5
}
