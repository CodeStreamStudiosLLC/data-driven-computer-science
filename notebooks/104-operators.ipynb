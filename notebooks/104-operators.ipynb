{
 "cells": [
  {
   "cell_type": "markdown",
   "id": "dc761a26-58a5-4b52-9516-538f9c593475",
   "metadata": {},
   "source": [
    "# Basic Python: Operators"
   ]
  },
  {
   "cell_type": "markdown",
   "id": "a282c121-b687-4c32-8d6b-0778ebcc06e6",
   "metadata": {},
   "source": [
    "## Arithmetic Operators"
   ]
  },
  {
   "cell_type": "markdown",
   "id": "b7621521-a597-4d28-97e2-79f6fb4764c4",
   "metadata": {},
   "source": [
    "Arithmetic operators are used with numeric values to perform common mathematical operations.  The following table lists each operator and its description:\n",
    "\n",
    "|Operator|Name/Description|\n",
    "|:------|:--------|\n",
    "|+|Addition|\n",
    "|-|Subtraction|\n",
    "|\\*|Multiplication|\n",
    "|/|Division|\n",
    "|%|Modulus|\n",
    "|\\**|Exponentiation|\n",
    "|//|Floor Division|"
   ]
  },
  {
   "cell_type": "code",
   "execution_count": 21,
   "id": "a80482dc-167b-4bc4-89b2-390fbd0344b9",
   "metadata": {},
   "outputs": [
    {
     "name": "stdout",
     "output_type": "stream",
     "text": [
      "11\n",
      "3\n",
      "1.75\n",
      "3\n",
      "2401\n"
     ]
    }
   ],
   "source": [
    "print(7+4)\n",
    "\n",
    "print(7-4)\n",
    "\n",
    "print(7/4)\n",
    "\n",
    "print(7%4)\n",
    "\n",
    "print(7**4)"
   ]
  },
  {
   "cell_type": "markdown",
   "id": "7da1b036-edd7-495b-ac28-63c6473cf464",
   "metadata": {},
   "source": [
    "## Assignment Operators"
   ]
  },
  {
   "cell_type": "markdown",
   "id": "a006ea78-6d03-4b8d-8a5f-c16045f825da",
   "metadata": {},
   "source": [
    "Assignment operators are used to assign values to variables.  The following table lists each operator and its description:\n",
    "\n",
    "|Operator|Description|Equivalent Expression|\n",
    "|:-----|:----|:----|\n",
    "|=|x = *n*|x = *n*|\n",
    "|+=|x += *n*|x = x + *n*|\n",
    "|-=|x -= *n*|x = x - *n*|\n",
    "|*=|x *= *n*|x = x * *n*|\n",
    "|/=|x /= *n*|x = x / *n*|\n",
    "|%=|x %= *n*|x = x % *n*|\n",
    "|//=|x //= *n*|x = x // *n*|\n",
    "|**=|x **= *n*|x = x ** *n*|\n",
    "|&=|x &= *n*|x = x & *n*|\n",
    "|\\|=|x \\|= *n*|x = x \\| *n*|\n",
    "|^=|x ^= *n*|x = x ^ *n*|\n",
    "|>>=|x >>= *n*|x = x >> *n*|\n",
    "|<<=|x <<= *n*|x = x << *n*|\n"
   ]
  },
  {
   "cell_type": "code",
   "execution_count": 22,
   "id": "bb3bff0c-b77a-4a85-b517-5ca58fd08c6f",
   "metadata": {},
   "outputs": [
    {
     "name": "stdout",
     "output_type": "stream",
     "text": [
      "7\n",
      "14\n",
      "3\n"
     ]
    }
   ],
   "source": [
    "a = 7\n",
    "\n",
    "print(a)\n",
    "\n",
    "a+=7\n",
    "\n",
    "print(a)\n",
    "\n",
    "a//=4\n",
    "\n",
    "print(a)"
   ]
  },
  {
   "cell_type": "markdown",
   "id": "1c033f11-2abd-4f6f-ae2a-829b34196e04",
   "metadata": {},
   "source": [
    "## Comparison Operators"
   ]
  },
  {
   "cell_type": "markdown",
   "id": "fdf0e375-9892-463e-b3ee-9a1551df9f1e",
   "metadata": {},
   "source": [
    "Comparison operators are used to compare two values. The following table lists each operator and its description:\n",
    "\n",
    "|Operator|Name|\n",
    "|:---|:---|\n",
    "|==|Equal|\n",
    "|!=|Not equal|\n",
    "|>|Greater than|\n",
    "|<|Less than|\n",
    "|>=|Greater than or equal to|\n",
    "|<=|Less than or equal to|"
   ]
  },
  {
   "cell_type": "code",
   "execution_count": 23,
   "id": "108c503f-55db-4466-9170-28f270f8d441",
   "metadata": {},
   "outputs": [
    {
     "name": "stdout",
     "output_type": "stream",
     "text": [
      "False\n",
      "True\n",
      "True\n",
      "False\n"
     ]
    }
   ],
   "source": [
    "a = 4\n",
    "b = 7\n",
    "c = 3\n",
    "d = 4\n",
    "\n",
    "print(a==b)\n",
    "\n",
    "print(a==d)\n",
    "\n",
    "print(b >= a)\n",
    "\n",
    "print(d < c)"
   ]
  },
  {
   "cell_type": "markdown",
   "id": "83f26662-5a1c-421f-ba4c-fe32e20f6249",
   "metadata": {},
   "source": [
    "## Logical Operators"
   ]
  },
  {
   "cell_type": "markdown",
   "id": "f42259ad-c7ff-4c2a-87ee-24a743e61cc9",
   "metadata": {},
   "source": [
    "Logical operators are used to combine conditional statements. The following table lists each operator and its description:\n",
    "\n",
    "|Operator|Description|\n",
    "|:-----|:---|\n",
    "|and|returns **True** if both statements are true|\n",
    "|or|returns **True** if one of the statements is true|\n",
    "|not|reverse the result|"
   ]
  },
  {
   "cell_type": "code",
   "execution_count": 24,
   "id": "4a0c2d27-5c49-46b2-890e-9e538941d071",
   "metadata": {},
   "outputs": [
    {
     "name": "stdout",
     "output_type": "stream",
     "text": [
      "False\n",
      "True\n",
      "True\n",
      "True\n"
     ]
    }
   ],
   "source": [
    "a = True\n",
    "b = False\n",
    "c = True\n",
    "\n",
    "print(a and b)\n",
    "\n",
    "print(a and c)\n",
    "\n",
    "print(not b)\n",
    "\n",
    "print(a or c)"
   ]
  },
  {
   "cell_type": "markdown",
   "id": "b7df5d61-69f8-4d1e-9242-934a55c7973b",
   "metadata": {},
   "source": [
    "## Identity Operators"
   ]
  },
  {
   "cell_type": "markdown",
   "id": "99245748-f965-4176-ad34-9c2c0b5928b8",
   "metadata": {},
   "source": [
    "Identity operators are used to compare the objects, not if they are equal, but if they are actually the same object with the same memory location.  The following table lists each operator and its description:\n",
    "\n",
    "|Operator|Description|\n",
    "|:--|:--|\n",
    "|is|returns **True** if both variables are the same object|\n",
    "|is not|returns **True** if both variables are not the same object|"
   ]
  },
  {
   "cell_type": "code",
   "execution_count": 25,
   "id": "78d3cd42-ccf4-46e7-82d3-3b8e2bf16bdf",
   "metadata": {},
   "outputs": [
    {
     "name": "stdout",
     "output_type": "stream",
     "text": [
      "False\n",
      "True\n",
      "True\n"
     ]
    }
   ],
   "source": [
    "a = 10\n",
    "b = 7\n",
    "c = a\n",
    "\n",
    "print(a is b)\n",
    "\n",
    "print(a is c)\n",
    "\n",
    "print(c is not b)"
   ]
  },
  {
   "cell_type": "markdown",
   "id": "a1d0bee1-b469-427e-a528-0e886d50c1ea",
   "metadata": {},
   "source": [
    "## Membership Operators"
   ]
  },
  {
   "cell_type": "markdown",
   "id": "a5f1e0c4-1db4-494c-9769-d713c9f87d2b",
   "metadata": {},
   "source": [
    "Membership operators are used to test if a sequence is presented in an object.  The following table lists each operator and its description:\n",
    "\n",
    "|Operator|Description|\n",
    "|:--|:--|\n",
    "|in|returns **True** if a sequence with the specified value is present in the object|\n",
    "|not in|returns **True** if a sequence with the specified value is not present in the object|"
   ]
  },
  {
   "cell_type": "code",
   "execution_count": 29,
   "id": "74f385b8-cc0d-4c86-888f-e80362ff5508",
   "metadata": {},
   "outputs": [
    {
     "name": "stdout",
     "output_type": "stream",
     "text": [
      "True\n",
      "False\n",
      "True\n"
     ]
    }
   ],
   "source": [
    "a = 4\n",
    "b = [0, 1, 2, 3, 4, 5, 6, 7]\n",
    "c = [1, 17]\n",
    "\n",
    "print(a in b)\n",
    "\n",
    "print(a in c)\n",
    "\n",
    "print(c not in b)"
   ]
  },
  {
   "cell_type": "markdown",
   "id": "1b6a91d8-4bff-429c-8d54-3a8798fb25fd",
   "metadata": {},
   "source": [
    "## Bitwise Operators"
   ]
  },
  {
   "cell_type": "markdown",
   "id": "015ed931-764d-4aca-be06-79e2ad33ec11",
   "metadata": {},
   "source": [
    "Bitwise operators are used to compare (binary) numbers.  The following table lists each operator and its description:\n",
    "\n",
    "|Operator|Name|Description|\n",
    "|:--|:--|:--|\n",
    "|&|AND|Sets each bit to 1 if both bits are 1|\n",
    "|\\||OR|Sets each bit to 1 if one of the two bits is 1|\n",
    "|^|XOR|Sets each bit to 1 if only one of two bits is 1|\n",
    "|~|NOT|Inverts all the bits|\n",
    "|<<|Zero fill left shift|Shift left by pushing zeros in from the right and let the leftmost bits fall off|\n",
    "|>>|Zero fill right shift|Shift right by pushing copies of the leftmost bit in from the left, and let the rightmost bits fall off|"
   ]
  },
  {
   "cell_type": "code",
   "execution_count": 45,
   "id": "4013b7bb-ac87-45fa-872a-938585f21bd6",
   "metadata": {},
   "outputs": [
    {
     "name": "stdout",
     "output_type": "stream",
     "text": [
      "31\n",
      "240\n",
      "3\n"
     ]
    }
   ],
   "source": [
    "a = 0b11110\n",
    "b = 0b00111\n",
    "\n",
    "print(a | b)\n",
    "\n",
    "print(a << 3)\n",
    "\n",
    "print(a >> 3)"
   ]
  }
 ],
 "metadata": {
  "kernelspec": {
   "display_name": "Python 3 (ipykernel)",
   "language": "python",
   "name": "python3"
  },
  "language_info": {
   "codemirror_mode": {
    "name": "ipython",
    "version": 3
   },
   "file_extension": ".py",
   "mimetype": "text/x-python",
   "name": "python",
   "nbconvert_exporter": "python",
   "pygments_lexer": "ipython3",
   "version": "3.7.12"
  }
 },
 "nbformat": 4,
 "nbformat_minor": 5
}
