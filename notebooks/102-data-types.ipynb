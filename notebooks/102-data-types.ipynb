{
 "cells": [
  {
   "cell_type": "markdown",
   "id": "ce8a01a5-3dd1-49eb-8904-bb89a409930a",
   "metadata": {},
   "source": [
    "# Basic Python: Data Types"
   ]
  },
  {
   "cell_type": "markdown",
   "id": "51a7bb4d-d472-42a2-ac20-a712d5df390c",
   "metadata": {},
   "source": [
    "## Numeric Types"
   ]
  },
  {
   "cell_type": "markdown",
   "id": "e10055f9-f88b-4fc1-bc97-ff48205564e8",
   "metadata": {},
   "source": [
    "### int\n",
    "\n",
    "Integers are represented using the built-in type ***int***.  Integers are used for representing positive and negative whole numbers as well as zero.\n",
    "\n",
    "### float\n",
    "\n",
    "Floating point numbers are represented using the built-in type ***float***.  Floating point numbers are used for representing decimal/fractional numbers in python.\n",
    "\n",
    "### complex\n",
    "\n",
    "Complex numbers are represented using the built-in type ***complex***.  Complex numbers are used to represent numbers that have both a real and imaginary component. For complex numbers, both the real and complex portions are represented with floating point values."
   ]
  },
  {
   "cell_type": "code",
   "execution_count": 1,
   "id": "6e2ae4d9-1aa2-4d96-85d6-a154b166bbc6",
   "metadata": {},
   "outputs": [
    {
     "name": "stdout",
     "output_type": "stream",
     "text": [
      "<class 'int'>\n",
      "<class 'float'>\n",
      "<class 'complex'>\n"
     ]
    }
   ],
   "source": [
    "a_int = 15\n",
    "\n",
    "print(type(a_int))\n",
    "\n",
    "a_float = 17.823\n",
    "\n",
    "print(type(a_float))\n",
    "\n",
    "a_complex = 7-17j\n",
    "\n",
    "print(type(a_complex))\n"
   ]
  },
  {
   "cell_type": "markdown",
   "id": "337047e5-41cf-4c57-8a37-fc8bffd4f6ec",
   "metadata": {},
   "source": [
    "## Non-Numeric Types"
   ]
  },
  {
   "cell_type": "markdown",
   "id": "f3da702a-df6e-4286-aad5-fbbece88fb94",
   "metadata": {},
   "source": [
    "### str\n",
    "\n",
    "String objects are represented using the built-in type ***str***.  Strings are used to handle textual data.\n",
    "\n",
    "### bytes\n",
    "\n",
    "Computer readable data is represented using the built-in type ***bytes***.  Bytes are the only means for a computer to store and process data.  You can look at bytes as being the computer equivalent of a string (which is meant to for human readable text).\n",
    "\n",
    "### bool\n",
    "\n",
    "Boolean objects are represented using the built-in type ***bool***.  Booleans are objects in python that represent one of two values: **True** or **False**.\n",
    "Booleans are technically a subtype of integers, however they are discussed here because by default they return a string and not an integer even though *True* is equivalent to an integer value of *1* and *False* is equivalent to an integer value of *0*."
   ]
  },
  {
   "cell_type": "code",
   "execution_count": 2,
   "id": "3b57bdc4-e092-4573-9458-9ad1b9faf9c4",
   "metadata": {},
   "outputs": [
    {
     "name": "stdout",
     "output_type": "stream",
     "text": [
      "<class 'str'>\n",
      "<class 'bytes'>\n",
      "<class 'bool'>\n"
     ]
    }
   ],
   "source": [
    "a_str = \"string\"\n",
    "\n",
    "print(type(a_str))\n",
    "\n",
    "a_bytes = b'bytes'\n",
    "\n",
    "print(type(a_bytes))\n",
    "\n",
    "a_bool = True\n",
    "\n",
    "print(type(a_bool))"
   ]
  },
  {
   "cell_type": "markdown",
   "id": "f2a590ac-678a-4bac-b9b6-3d35af7b60a3",
   "metadata": {},
   "source": [
    "## Memory Allocation"
   ]
  },
  {
   "cell_type": "markdown",
   "id": "a998e052-ffe7-4517-a84a-351adeee916b",
   "metadata": {},
   "source": [
    "In python, as is in other programming languages, different data types and object types take up different amounts of space in memory.  This is important to keep in mind for when you begin working with larger datasets.  The class of the data values will determine whether or not your computer has the memory capacity to load the entire dataset into memory at once.  If not, you will have to figure out ways to load and process your data in batches.  The following gives a breakdown of the number of bytes each data type holds:\n",
    "\n",
    "| Data Type | Bytes | Container Bytes |\n",
    "|:---------:|:-----:|:---------------:|\n",
    "|    int    |   4   |        24       |\n",
    "|   float   |   4   |        24       |\n",
    "|  complex  |   8   |        24       |\n",
    "|    str    |   1*  |        49       |\n",
    "|   bytes   |   1*  |        33       |\n",
    "|    bool   |   4   |        24       |\n",
    "\n",
    "**\\* for these data types, there is 1 byte allocated for each character being stored**"
   ]
  },
  {
   "cell_type": "code",
   "execution_count": null,
   "id": "e4360de3-d38f-4f1f-871d-cf56b6bbf41c",
   "metadata": {},
   "outputs": [],
   "source": []
  }
 ],
 "metadata": {
  "kernelspec": {
   "display_name": "Python 3 (ipykernel)",
   "language": "python",
   "name": "python3"
  },
  "language_info": {
   "codemirror_mode": {
    "name": "ipython",
    "version": 3
   },
   "file_extension": ".py",
   "mimetype": "text/x-python",
   "name": "python",
   "nbconvert_exporter": "python",
   "pygments_lexer": "ipython3",
   "version": "3.7.12"
  }
 },
 "nbformat": 4,
 "nbformat_minor": 5
}
