{
 "cells": [
  {
   "cell_type": "markdown",
   "id": "d8a2a32c-0222-49ba-b5e1-1b3cdee28d4b",
   "metadata": {},
   "source": [
    "# Scientific Python: Project"
   ]
  },
  {
   "cell_type": "markdown",
   "id": "7c74f04f-3b91-4713-aa38-d7bc36e2f579",
   "metadata": {},
   "source": [
    "For this project, use what you have learned in Unit 2 to create a calculator function with the following capabilities:\n",
    "\n",
    "- Accepts multiple inputs for addition (in one single variable, i.e. pass in an array) and exactly 2 for all other operations\n",
    "- Accepts the operations: '+', '-', '*', '/'\n",
    "- Return the solution\n",
    "- Make sure that only numerical values can be passed in\n",
    "- Use numpy functions to execute the operations"
   ]
  },
  {
   "cell_type": "code",
   "execution_count": 11,
   "id": "eaa82376-a44b-404b-8bec-017da92bf17e",
   "metadata": {},
   "outputs": [],
   "source": [
    "import numpy\n",
    "\n",
    "def calculator(val0=None, val1=None, op=None):\n",
    "    assert(isinstance(val0, (float, int)))\n",
    "    assert(isinstance(val1, (float, int)))\n",
    "    \n",
    "    assert(isinstance(op, str))\n",
    "    \n",
    "    if op == '+':\n",
    "        return numpy.sum(val0)\n",
    "    elif op == '-':\n",
    "        return numpy.diff([val0, val1])\n",
    "    elif op == '*':\n",
    "        return numpy.multiply(val0, val1)\n",
    "    elif op == '/':\n",
    "        return numpy.true_divide(val0, val1)\n",
    "    else:\n",
    "        print(\"Invalid operator specified. Please choose one of: '+', '-', '*', '/'.\")"
   ]
  },
  {
   "cell_type": "code",
   "execution_count": null,
   "id": "79f73b14-0fc7-49eb-9e18-dee15212a2ff",
   "metadata": {},
   "outputs": [],
   "source": []
  }
 ],
 "metadata": {
  "kernelspec": {
   "display_name": "Python 3 (ipykernel)",
   "language": "python",
   "name": "python3"
  },
  "language_info": {
   "codemirror_mode": {
    "name": "ipython",
    "version": 3
   },
   "file_extension": ".py",
   "mimetype": "text/x-python",
   "name": "python",
   "nbconvert_exporter": "python",
   "pygments_lexer": "ipython3",
   "version": "3.7.12"
  }
 },
 "nbformat": 4,
 "nbformat_minor": 5
}
