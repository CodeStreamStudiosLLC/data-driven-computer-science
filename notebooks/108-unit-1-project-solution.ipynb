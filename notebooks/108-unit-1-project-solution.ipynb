{
 "cells": [
  {
   "cell_type": "markdown",
   "id": "d8a2a32c-0222-49ba-b5e1-1b3cdee28d4b",
   "metadata": {},
   "source": [
    "# Basic Python: Project"
   ]
  },
  {
   "cell_type": "markdown",
   "id": "7c74f04f-3b91-4713-aa38-d7bc36e2f579",
   "metadata": {},
   "source": [
    "For this project, use what you have learned in Unit 1 to create a calculator function with the following capabilities:\n",
    "\n",
    "- Accepts 2 inputs\n",
    "- Accepts the operations: '+', '-', '*', '/'\n",
    "- Return the solution\n",
    "- Make sure that only numerical values can be passed in "
   ]
  },
  {
   "cell_type": "code",
   "execution_count": null,
   "id": "af5d3336-7eb9-4054-922b-9b9454e52222",
   "metadata": {},
   "outputs": [],
   "source": []
  }
 ],
 "metadata": {
  "kernelspec": {
   "display_name": "Python 3 (ipykernel)",
   "language": "python",
   "name": "python3"
  },
  "language_info": {
   "codemirror_mode": {
    "name": "ipython",
    "version": 3
   },
   "file_extension": ".py",
   "mimetype": "text/x-python",
   "name": "python",
   "nbconvert_exporter": "python",
   "pygments_lexer": "ipython3",
   "version": "3.7.12"
  }
 },
 "nbformat": 4,
 "nbformat_minor": 5
}
